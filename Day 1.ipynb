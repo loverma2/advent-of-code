{
 "cells": [
  {
   "cell_type": "code",
   "execution_count": 3,
   "metadata": {},
   "outputs": [],
   "source": [
    "import math\n",
    "import pandas as pd"
   ]
  },
  {
   "cell_type": "code",
   "execution_count": 4,
   "metadata": {},
   "outputs": [],
   "source": [
    "df = pd.read_csv(\"day_1.csv\")"
   ]
  },
  {
   "cell_type": "code",
   "execution_count": 10,
   "metadata": {},
   "outputs": [
    {
     "name": "stdout",
     "output_type": "stream",
     "text": [
      "3282386\n"
     ]
    }
   ],
   "source": [
    "fuel = 0\n",
    "for i in df.iloc[:,0]:\n",
    "    needed = math.floor(i/3)-2\n",
    "    fuel += needed\n",
    "\n",
    "print(fuel)"
   ]
  },
  {
   "cell_type": "code",
   "execution_count": 12,
   "metadata": {},
   "outputs": [
    {
     "name": "stdout",
     "output_type": "stream",
     "text": [
      "4920708\n"
     ]
    }
   ],
   "source": [
    "fuel = 0\n",
    "for i in df.iloc[:,0]:\n",
    "    mass = math.floor(i/3)-2\n",
    "    fuel += mass\n",
    "    total = mass\n",
    "    \n",
    "    while total > 0:\n",
    "        calc = math.floor(total/3)-2\n",
    "        total = calc\n",
    "        if total < 1:\n",
    "            break\n",
    "            \n",
    "        fuel+=total\n",
    "\n",
    "print(fuel)"
   ]
  },
  {
   "cell_type": "code",
   "execution_count": null,
   "metadata": {},
   "outputs": [],
   "source": []
  }
 ],
 "metadata": {
  "kernelspec": {
   "display_name": "Python 3",
   "language": "python",
   "name": "python3"
  },
  "language_info": {
   "codemirror_mode": {
    "name": "ipython",
    "version": 3
   },
   "file_extension": ".py",
   "mimetype": "text/x-python",
   "name": "python",
   "nbconvert_exporter": "python",
   "pygments_lexer": "ipython3",
   "version": "3.7.6"
  }
 },
 "nbformat": 4,
 "nbformat_minor": 4
}
